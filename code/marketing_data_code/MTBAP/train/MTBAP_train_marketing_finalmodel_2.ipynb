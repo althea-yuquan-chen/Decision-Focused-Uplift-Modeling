{
 "cells": [
  {
   "cell_type": "code",
   "execution_count": 1,
   "id": "456ce792-6d72-461c-96e7-664bc99b167d",
   "metadata": {},
   "outputs": [],
   "source": [
    "%load_ext autoreload\n",
    "%autoreload 2"
   ]
  },
  {
   "cell_type": "code",
   "execution_count": 2,
   "id": "0582e14b-08fd-4dba-8ed1-b77d38539078",
   "metadata": {},
   "outputs": [
    {
     "name": "stdout",
     "output_type": "stream",
     "text": [
      "2.4.1\n"
     ]
    }
   ],
   "source": [
    "import tensorflow as tf\n",
    "print(tf.__version__)"
   ]
  },
  {
   "cell_type": "code",
   "execution_count": null,
   "id": "5058d4c0-dbbc-4488-baa2-4b8722a37331",
   "metadata": {},
   "outputs": [],
   "source": []
  },
  {
   "cell_type": "code",
   "execution_count": null,
   "id": "97740a28-68a7-418b-8c50-f974e73d35ab",
   "metadata": {},
   "outputs": [],
   "source": []
  },
  {
   "cell_type": "code",
   "execution_count": 11,
   "id": "142f4e5b-3ab3-4e14-9f44-832309e58d01",
   "metadata": {},
   "outputs": [],
   "source": [
    "sys.path.append(\"..\")\n",
    "from model.uplift_model import *\n",
    "from model.roi_model import *\n",
    "from model.mt_roi_model import *\n"
   ]
  },
  {
   "cell_type": "code",
   "execution_count": 12,
   "id": "f682c273-426b-419b-ba56-5bfec2d8bc4e",
   "metadata": {},
   "outputs": [],
   "source": [
    "import matplotlib.pyplot as plt\n",
    "\n",
    "def plot_loss(history, *losses):\n",
    "    for loss in losses:\n",
    "        plt.plot(history.history[loss], label=loss)\n",
    "    plt.xlabel('Epoch')\n",
    "    plt.ylabel('Loss')\n",
    "    plt.legend()\n",
    "    plt.grid(True)\n",
    "    plt.show()\n",
    "    "
   ]
  },
  {
   "cell_type": "code",
   "execution_count": null,
   "id": "b48624fa-73f7-465e-8402-ec31c1e19512",
   "metadata": {},
   "outputs": [],
   "source": []
  },
  {
   "cell_type": "code",
   "execution_count": null,
   "id": "9268261c-d7ad-4e18-9bc4-0706f3988403",
   "metadata": {
    "collapsed": true,
    "jupyter": {
     "outputs_hidden": true
    },
    "tags": []
   },
   "outputs": [
    {
     "name": "stdout",
     "output_type": "stream",
     "text": [
      "trainable_weights\n",
      "p1_hidden_1/kernel:0\n",
      "p1_hidden_1/bias:0\n",
      "p1/kernel:0\n",
      "p1/bias:0\n",
      "non_trainable_weights\n",
      "Model: \"model\"\n",
      "__________________________________________________________________________________________________\n",
      "Layer (type)                    Output Shape         Param #     Connected to                     \n",
      "==================================================================================================\n",
      "p0_raw_features (InputLayer)    [(None, 76)]         0                                            \n",
      "__________________________________________________________________________________________________\n",
      "treated_input (InputLayer)      [(None, 1)]          0                                            \n",
      "__________________________________________________________________________________________________\n",
      "concatenate (Concatenate)       (None, 77)           0           p0_raw_features[0][0]            \n",
      "                                                                 treated_input[0][0]              \n",
      "__________________________________________________________________________________________________\n",
      "p1_hidden_1 (Dense)             (None, 64)           4992        concatenate[0][0]                \n",
      "                                                                 concatenate_1[0][0]              \n",
      "__________________________________________________________________________________________________\n",
      "reward_input (InputLayer)       [(None, 1)]          0                                            \n",
      "__________________________________________________________________________________________________\n",
      "cost_input (InputLayer)         [(None, 1)]          0                                            \n",
      "__________________________________________________________________________________________________\n",
      "p1 (Dense)                      (None, 1)            65          p1_hidden_1[0][0]                \n",
      "                                                                 p1_hidden_1[1][0]                \n",
      "__________________________________________________________________________________________________\n",
      "tf.math.subtract (TFOpLambda)   (None, 1)            0           treated_input[0][0]              \n",
      "__________________________________________________________________________________________________\n",
      "concatenate_1 (Concatenate)     (None, 77)           0           p0_raw_features[0][0]            \n",
      "                                                                 tf.math.subtract[0][0]           \n",
      "__________________________________________________________________________________________________\n",
      "tf.math.greater (TFOpLambda)    (None, 1)            0           treated_input[0][0]              \n",
      "__________________________________________________________________________________________________\n",
      "tf.math.less (TFOpLambda)       (None, 1)            0           treated_input[0][0]              \n",
      "__________________________________________________________________________________________________\n",
      "tf.math.square_1 (TFOpLambda)   (None, 1)            0           p1[1][0]                         \n",
      "__________________________________________________________________________________________________\n",
      "tf.cast (TFOpLambda)            (None, 1)            0           tf.math.greater[0][0]            \n",
      "__________________________________________________________________________________________________\n",
      "tf.math.square (TFOpLambda)     (None, 1)            0           p1[0][0]                         \n",
      "__________________________________________________________________________________________________\n",
      "tf.cast_1 (TFOpLambda)          (None, 1)            0           tf.math.less[0][0]               \n",
      "__________________________________________________________________________________________________\n",
      "tf.math.multiply_2 (TFOpLambda) (None, 1)            0           tf.math.square_1[0][0]           \n",
      "                                                                 tf.cast[0][0]                    \n",
      "__________________________________________________________________________________________________\n",
      "tf.math.multiply_3 (TFOpLambda) (None, 1)            0           tf.math.square[0][0]             \n",
      "                                                                 tf.cast_1[0][0]                  \n",
      "__________________________________________________________________________________________________\n",
      "tf.math.multiply (TFOpLambda)   (None, 1)            0           p1[1][0]                         \n",
      "                                                                 tf.cast[0][0]                    \n",
      "__________________________________________________________________________________________________\n",
      "tf.math.multiply_1 (TFOpLambda) (None, 1)            0           p1[0][0]                         \n",
      "                                                                 tf.cast_1[0][0]                  \n",
      "__________________________________________________________________________________________________\n",
      "tf.math.subtract_2 (TFOpLambda) (None, 1)            0           tf.math.multiply_2[0][0]         \n",
      "                                                                 tf.math.multiply_3[0][0]         \n",
      "__________________________________________________________________________________________________\n",
      "tf.math.subtract_1 (TFOpLambda) (None, 1)            0           tf.math.multiply[0][0]           \n",
      "                                                                 tf.math.multiply_1[0][0]         \n",
      "__________________________________________________________________________________________________\n",
      "tf.math.multiply_5 (TFOpLambda) (None, 1)            0           cost_input[0][0]                 \n",
      "                                                                 tf.math.subtract_2[0][0]         \n",
      "__________________________________________________________________________________________________\n",
      "tf.math.multiply_4 (TFOpLambda) (None, 1)            0           reward_input[0][0]               \n",
      "                                                                 tf.math.subtract_1[0][0]         \n",
      "__________________________________________________________________________________________________\n",
      "tf.math.reduce_mean_1 (TFOpLamb ()                   0           tf.math.multiply_5[0][0]         \n",
      "__________________________________________________________________________________________________\n",
      "tf.math.reduce_mean (TFOpLambda ()                   0           tf.math.multiply_4[0][0]         \n",
      "__________________________________________________________________________________________________\n",
      "tf.math.subtract_3 (TFOpLambda) ()                   0           tf.math.reduce_mean_1[0][0]      \n",
      "                                                                 tf.math.reduce_mean[0][0]        \n",
      "__________________________________________________________________________________________________\n",
      "tf.math.multiply_6 (TFOpLambda) ()                   0           tf.math.subtract_3[0][0]         \n",
      "__________________________________________________________________________________________________\n",
      "add_loss (AddLoss)              ()                   0           tf.math.multiply_6[0][0]         \n",
      "__________________________________________________________________________________________________\n",
      "tf.math.multiply_7 (TFOpLambda) ()                   0           tf.math.subtract_3[0][0]         \n",
      "__________________________________________________________________________________________________\n",
      "add_metric (AddMetric)          ()                   0           tf.math.multiply_7[0][0]         \n",
      "==================================================================================================\n",
      "Total params: 5,057\n",
      "Trainable params: 5,057\n",
      "Non-trainable params: 0\n",
      "__________________________________________________________________________________________________\n",
      "iteration =  11\n"
     ]
    }
   ],
   "source": [
    "# multiple treatment rank roi model with customized_regularizy\n",
    "# 2层nn: 0.03 0.001 1e-2\n",
    "import keras\n",
    "import keras.backend as K\n",
    "import tensorflow as tf\n",
    "from keras.callbacks import LearningRateScheduler\n",
    "from keras.callbacks import ReduceLROnPlateau\n",
    "from model.mt_roi_model import *\n",
    "\n",
    "final_model = get_rank_marginal_utility_model()\n",
    "final_model.compile(loss=None, optimizer='adam')\n",
    "print('trainable_weights')\n",
    "for x in final_model.trainable_weights:\n",
    "    print(x.name)\n",
    "print('non_trainable_weights')\n",
    "for x in final_model.non_trainable_weights:\n",
    "    print(x.name)\n",
    "final_model.summary()\n",
    "\n",
    "\n",
    "for i in range(10, 20):\n",
    "\n",
    "    print(\"iteration = \", i + 1)\n",
    "    \n",
    "    final_model = get_rank_marginal_utility_model()\n",
    "    final_model.compile(loss=None, optimizer='adam')\n",
    "\n",
    "    mcp_save = ModelCheckpoint('../model_file/MTBAP/marketing/final_model/DPM/rank_marginal_utility_model_{}.h5'.format(i+1), save_best_only=False, monitor='val_obj', mode='min', save_weights_only=True)\n",
    "    history = final_model.fit([X, T, Yr, Yc], validation_split=0.2, epochs=6000, batch_size=4096000, shuffle=True, verbose=0, callbacks=[mcp_save])\n",
    "\n",
    "        \n",
    "    plot_loss(history, \"loss\", \"val_loss\", \"obj\", \"val_obj\")\n",
    "    "
   ]
  },
  {
   "cell_type": "code",
   "execution_count": null,
   "id": "d4436a1a-5b78-438e-b132-d0e5486409ea",
   "metadata": {},
   "outputs": [],
   "source": []
  }
 ],
 "metadata": {
  "kernelspec": {
   "display_name": "Python 3",
   "language": "python",
   "name": "python3"
  },
  "language_info": {
   "codemirror_mode": {
    "name": "ipython",
    "version": 3
   },
   "file_extension": ".py",
   "mimetype": "text/x-python",
   "name": "python",
   "nbconvert_exporter": "python",
   "pygments_lexer": "ipython3",
   "version": "3.6.13"
  }
 },
 "nbformat": 4,
 "nbformat_minor": 5
}
