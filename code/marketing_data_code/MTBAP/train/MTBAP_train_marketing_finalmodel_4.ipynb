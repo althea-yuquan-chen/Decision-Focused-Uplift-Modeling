{
 "cells": [
  {
   "cell_type": "code",
   "execution_count": 1,
   "id": "69edca44-4151-4995-95c1-352d8616ba99",
   "metadata": {},
   "outputs": [],
   "source": [
    "%load_ext autoreload\n",
    "%autoreload 2"
   ]
  },
  {
   "cell_type": "code",
   "execution_count": 2,
   "id": "dbb99984-4378-4545-b0b5-2c2975b41477",
   "metadata": {},
   "outputs": [
    {
     "name": "stdout",
     "output_type": "stream",
     "text": [
      "2.4.1\n"
     ]
    }
   ],
   "source": [
    "import tensorflow as tf\n",
    "print(tf.__version__)"
   ]
  },
  {
   "cell_type": "code",
   "execution_count": null,
   "id": "a96efdd0-6f12-432f-a344-00cf3309e67d",
   "metadata": {},
   "outputs": [],
   "source": []
  },
  {
   "cell_type": "code",
   "execution_count": null,
   "id": "99370e02-7e7e-4aa5-9235-d2c09717caf4",
   "metadata": {},
   "outputs": [],
   "source": []
  },
  {
   "cell_type": "code",
   "execution_count": null,
   "id": "a12e51e1-99dc-40d9-869d-830dd5ddbc81",
   "metadata": {},
   "outputs": [],
   "source": []
  },
  {
   "cell_type": "code",
   "execution_count": 12,
   "id": "52984b5c-2bcd-429f-b381-c63ecee01480",
   "metadata": {},
   "outputs": [
    {
     "name": "stdout",
     "output_type": "stream",
     "text": [
      "iteration =  11\n",
      "\n",
      "\n",
      "iteration =  12\n",
      "\n",
      "\n",
      "iteration =  13\n",
      "\n",
      "\n",
      "iteration =  14\n",
      "\n",
      "\n",
      "iteration =  15\n",
      "\n",
      "\n",
      "iteration =  16\n",
      "\n",
      "\n",
      "iteration =  17\n",
      "\n",
      "\n",
      "iteration =  18\n",
      "\n",
      "\n",
      "iteration =  19\n",
      "\n",
      "\n",
      "iteration =  20\n",
      "\n",
      "\n"
     ]
    }
   ],
   "source": [
    "# GRF\n",
    "from econml.dml import CausalForestDML\n",
    "from sklearn.ensemble import RandomForestRegressor, RandomForestClassifier\n",
    "from sklearn.ensemble import GradientBoostingRegressor, GradientBoostingClassifier\n",
    "from sklearn.dummy import DummyRegressor, DummyClassifier\n",
    "from evaluation.UpliftMetric import *\n",
    "import pickle\n",
    "\n",
    "X_grf = X\n",
    "T_grf = T.flatten()\n",
    "Yr_grf = Yr.flatten()\n",
    "\n",
    "\n",
    "for i in range(10, 20):\n",
    "    \n",
    "    print(\"iteration = \", i + 1)\n",
    "    \n",
    "    depth = 24\n",
    "    min_samples_leaf = 300\n",
    "    n_estimators = 256\n",
    "\n",
    "    grf_random_state = 20220714 + i * 11\n",
    "\n",
    "    est_it = CausalForestDML(model_y=RandomForestRegressor(n_estimators=160, max_samples = 0.7, random_state=grf_random_state, max_depth=12, min_samples_leaf=500, n_jobs=32),\n",
    "                          model_t=RandomForestRegressor(n_estimators=160, max_samples = 0.7, random_state=grf_random_state, max_depth=12, min_samples_leaf=500, n_jobs=32),\n",
    "                          discrete_treatment=False,\n",
    "                          cv=3,\n",
    "                          n_estimators=n_estimators,\n",
    "                          n_jobs=32,\n",
    "                          max_depth=depth,\n",
    "                          min_samples_leaf = min_samples_leaf,\n",
    "                          random_state=grf_random_state)\n",
    "\n",
    "    est_it.fit(Yr_grf, T_grf, X=X_grf, cache_values=True)\n",
    "\n",
    "    model_file = \"../model_file/MTBAP/marketing/final_model/GRF/CausalForestDML_reward_{}.model\".format(i + 1)\n",
    "\n",
    "    fw = open(model_file, \"wb\")\n",
    "\n",
    "    pickle.dump(est_it, fw)\n",
    "\n",
    "    fw.close()\n",
    "\n",
    "    print(\"\\n\")\n",
    "    "
   ]
  },
  {
   "cell_type": "code",
   "execution_count": null,
   "id": "68cdc7a2-c0b8-4840-bec6-041c00fd6a22",
   "metadata": {},
   "outputs": [],
   "source": []
  }
 ],
 "metadata": {
  "kernelspec": {
   "display_name": "Python 3",
   "language": "python",
   "name": "python3"
  },
  "language_info": {
   "codemirror_mode": {
    "name": "ipython",
    "version": 3
   },
   "file_extension": ".py",
   "mimetype": "text/x-python",
   "name": "python",
   "nbconvert_exporter": "python",
   "pygments_lexer": "ipython3",
   "version": "3.6.13"
  }
 },
 "nbformat": 4,
 "nbformat_minor": 5
}
