{
 "cells": [
  {
   "cell_type": "code",
   "execution_count": 1,
   "id": "99ab457a-91f0-4c07-ac0f-6475d91bf142",
   "metadata": {},
   "outputs": [],
   "source": [
    "%load_ext autoreload\n",
    "%autoreload 2"
   ]
  },
  {
   "cell_type": "code",
   "execution_count": 2,
   "id": "91727cd3-b96f-434a-a987-f005dbe5bd38",
   "metadata": {},
   "outputs": [
    {
     "name": "stdout",
     "output_type": "stream",
     "text": [
      "2.4.1\n"
     ]
    }
   ],
   "source": [
    "import tensorflow as tf\n",
    "print(tf.__version__)"
   ]
  },
  {
   "cell_type": "code",
   "execution_count": null,
   "id": "e93a063d-7ca8-4c5f-a4f5-faad3bf04c0d",
   "metadata": {},
   "outputs": [],
   "source": []
  },
  {
   "cell_type": "code",
   "execution_count": null,
   "id": "da221591-8160-4c13-a65e-5ef33f7f730d",
   "metadata": {},
   "outputs": [],
   "source": []
  },
  {
   "cell_type": "code",
   "execution_count": 11,
   "id": "e7dcf9ae-91f4-42a4-9e8e-db4343cf202b",
   "metadata": {},
   "outputs": [],
   "source": [
    "sys.path.append(\"..\")\n",
    "from model.uplift_model import *\n",
    "from model.roi_model import *"
   ]
  },
  {
   "cell_type": "code",
   "execution_count": 12,
   "id": "f27e3a6a-f687-4b88-bd91-128225be4ce8",
   "metadata": {},
   "outputs": [],
   "source": [
    "import matplotlib.pyplot as plt\n",
    "\n",
    "def plot_loss(history, *losses):\n",
    "    for loss in losses:\n",
    "        plt.plot(history.history[loss], label=loss)\n",
    "    plt.xlabel('Epoch')\n",
    "    plt.ylabel('Loss')\n",
    "    plt.legend()\n",
    "    plt.grid(True)\n",
    "    plt.show()\n",
    "    "
   ]
  },
  {
   "cell_type": "code",
   "execution_count": null,
   "id": "81b9f0c2-a833-4cd8-a7b5-1b7e24a377b7",
   "metadata": {},
   "outputs": [],
   "source": []
  },
  {
   "cell_type": "code",
   "execution_count": null,
   "id": "0f4750a8-086f-42eb-8183-a4077a7a7b09",
   "metadata": {},
   "outputs": [],
   "source": []
  },
  {
   "cell_type": "code",
   "execution_count": 13,
   "id": "2ada6ab8-7aa0-4afc-a48d-2e4f917457e2",
   "metadata": {},
   "outputs": [],
   "source": [
    "count = 20\n"
   ]
  },
  {
   "cell_type": "code",
   "execution_count": 18,
   "id": "cf0d55d8-b0d8-4a69-a662-9fbca2fd0a7f",
   "metadata": {},
   "outputs": [
    {
     "name": "stdout",
     "output_type": "stream",
     "text": [
      "20\n",
      "19\n",
      "18\n"
     ]
    }
   ],
   "source": [
    "for i in range(count - 1, 16, -1):\n",
    "    print(i + 1)\n",
    "    "
   ]
  },
  {
   "cell_type": "code",
   "execution_count": 19,
   "id": "6ee6f57d-3678-45af-a39e-66c622748b86",
   "metadata": {
    "collapsed": true,
    "jupyter": {
     "outputs_hidden": true
    },
    "tags": []
   },
   "outputs": [
    {
     "name": "stdout",
     "output_type": "stream",
     "text": [
      "trainable_weights\n",
      "p1_hidden_1/kernel:0\n",
      "p1_hidden_1/bias:0\n",
      "p1/kernel:0\n",
      "p1/bias:0\n",
      "non_trainable_weights\n",
      "Model: \"model\"\n",
      "__________________________________________________________________________________________________\n",
      "Layer (type)                    Output Shape         Param #     Connected to                     \n",
      "==================================================================================================\n",
      "p0_raw_features (InputLayer)    [(None, 76)]         0                                            \n",
      "__________________________________________________________________________________________________\n",
      "p1_hidden_1 (Dense)             (None, 64)           4928        p0_raw_features[0][0]            \n",
      "__________________________________________________________________________________________________\n",
      "treated_input (InputLayer)      [(None, 1)]          0                                            \n",
      "__________________________________________________________________________________________________\n",
      "reward_input (InputLayer)       [(None, 1)]          0                                            \n",
      "__________________________________________________________________________________________________\n",
      "p1 (Dense)                      (None, 1)            65          p1_hidden_1[0][0]                \n",
      "__________________________________________________________________________________________________\n",
      "tf.math.exp_1 (TFOpLambda)      (None, 1)            0           p1[0][0]                         \n",
      "__________________________________________________________________________________________________\n",
      "tf.math.exp (TFOpLambda)        (None, 1)            0           p1[0][0]                         \n",
      "__________________________________________________________________________________________________\n",
      "tf.math.reduce_sum (TFOpLambda) ()                   0           tf.math.exp_1[0][0]              \n",
      "__________________________________________________________________________________________________\n",
      "tf.math.truediv (TFOpLambda)    (None, 1)            0           tf.math.exp[0][0]                \n",
      "                                                                 tf.math.reduce_sum[0][0]         \n",
      "__________________________________________________________________________________________________\n",
      "tf.math.log (TFOpLambda)        (None, 1)            0           tf.math.truediv[0][0]            \n",
      "__________________________________________________________________________________________________\n",
      "tf.math.multiply (TFOpLambda)   (None, 1)            0           reward_input[0][0]               \n",
      "                                                                 tf.math.log[0][0]                \n",
      "__________________________________________________________________________________________________\n",
      "tf.math.multiply_2 (TFOpLambda) (None, 1)            0           reward_input[0][0]               \n",
      "                                                                 tf.math.log[0][0]                \n",
      "__________________________________________________________________________________________________\n",
      "tf.math.subtract (TFOpLambda)   (None, 1)            0           treated_input[0][0]              \n",
      "__________________________________________________________________________________________________\n",
      "tf.math.multiply_1 (TFOpLambda) (None, 1)            0           tf.math.multiply[0][0]           \n",
      "                                                                 treated_input[0][0]              \n",
      "__________________________________________________________________________________________________\n",
      "tf.math.multiply_3 (TFOpLambda) (None, 1)            0           tf.math.multiply_2[0][0]         \n",
      "                                                                 tf.math.subtract[0][0]           \n",
      "__________________________________________________________________________________________________\n",
      "tf.math.subtract_1 (TFOpLambda) (None, 1)            0           treated_input[0][0]              \n",
      "__________________________________________________________________________________________________\n",
      "tf.math.reduce_sum_1 (TFOpLambd ()                   0           tf.math.multiply_1[0][0]         \n",
      "__________________________________________________________________________________________________\n",
      "tf.math.reduce_sum_2 (TFOpLambd ()                   0           treated_input[0][0]              \n",
      "__________________________________________________________________________________________________\n",
      "tf.math.reduce_sum_3 (TFOpLambd ()                   0           tf.math.multiply_3[0][0]         \n",
      "__________________________________________________________________________________________________\n",
      "tf.math.reduce_sum_4 (TFOpLambd ()                   0           tf.math.subtract_1[0][0]         \n",
      "__________________________________________________________________________________________________\n",
      "tf.math.truediv_1 (TFOpLambda)  ()                   0           tf.math.reduce_sum_1[0][0]       \n",
      "                                                                 tf.math.reduce_sum_2[0][0]       \n",
      "__________________________________________________________________________________________________\n",
      "tf.math.truediv_2 (TFOpLambda)  ()                   0           tf.math.reduce_sum_3[0][0]       \n",
      "                                                                 tf.math.reduce_sum_4[0][0]       \n",
      "__________________________________________________________________________________________________\n",
      "tf.math.subtract_2 (TFOpLambda) ()                   0           tf.math.truediv_1[0][0]          \n",
      "                                                                 tf.math.truediv_2[0][0]          \n",
      "__________________________________________________________________________________________________\n",
      "tf.math.subtract_3 (TFOpLambda) ()                   0           tf.math.subtract_2[0][0]         \n",
      "__________________________________________________________________________________________________\n",
      "add_loss (AddLoss)              ()                   0           tf.math.subtract_3[0][0]         \n",
      "__________________________________________________________________________________________________\n",
      "add_metric (AddMetric)          ()                   0           tf.math.subtract_3[0][0]         \n",
      "==================================================================================================\n",
      "Total params: 4,993\n",
      "Trainable params: 4,993\n",
      "Non-trainable params: 0\n",
      "__________________________________________________________________________________________________\n",
      "iteration =  20\n"
     ]
    },
    {
     "data": {
      "image/png": "[encoded data removed]",
      "text/plain": [
       "<Figure size 432x288 with 1 Axes>"
      ]
     },
     "metadata": {
      "needs_background": "light"
     },
     "output_type": "display_data"
    },
    {
     "name": "stdout",
     "output_type": "stream",
     "text": [
      "iteration =  19\n"
     ]
    },
    {
     "data": {
      "image/png": "[encoded data removed]",
      "text/plain": [
       "<Figure size 432x288 with 1 Axes>"
      ]
     },
     "metadata": {
      "needs_background": "light"
     },
     "output_type": "display_data"
    },
    {
     "name": "stdout",
     "output_type": "stream",
     "text": [
      "iteration =  18\n"
     ]
    },
    {
     "data": {
      "image/png": "[encoded data removed]",
      "text/plain": [
       "<Figure size 432x288 with 1 Axes>"
      ]
     },
     "metadata": {
      "needs_background": "light"
     },
     "output_type": "display_data"
    }
   ],
   "source": [
    "# UPLIFT RANK MODEL\n",
    "# 7e-4\n",
    "import keras\n",
    "import keras.backend as K\n",
    "import tensorflow as tf\n",
    "from keras.callbacks import LearningRateScheduler\n",
    "from keras.callbacks import ReduceLROnPlateau\n",
    "from model.uplift_model import *\n",
    "\n",
    "final_model = get_uplift_rank_model()\n",
    "final_model.compile(loss=None, optimizer='adam')\n",
    "#lambda y_true,y_pred: y_pred\n",
    "print('trainable_weights')\n",
    "for x in final_model.trainable_weights:\n",
    "    print(x.name)\n",
    "print('non_trainable_weights')\n",
    "for x in final_model.non_trainable_weights:\n",
    "    print(x.name)\n",
    "final_model.summary()\n",
    "\n",
    "for i in range(count - 1, 16, -1):\n",
    "\n",
    "    print(\"iteration = \", i + 1)\n",
    "    \n",
    "    final_model = get_uplift_rank_model()\n",
    "    final_model.compile(loss=None, optimizer='adam')\n",
    "\n",
    "    mcp_save = ModelCheckpoint('../model_file/uplift/marketing/final_model/uplift_rank_marketing_model_{}.h5'.format(i+1), save_best_only=False, monitor='val_loss', mode='min', save_weights_only=True)\n",
    "    history = final_model.fit([X, T, Yr], validation_split=0.2, epochs=6000, batch_size=4096000, shuffle=True, verbose=0, callbacks=[mcp_save])\n",
    "\n",
    "    \n",
    "    plot_loss(history, \"loss\", \"val_loss\", \"obj\", \"val_obj\")\n",
    "\n",
    "\n",
    "\n"
   ]
  },
  {
   "cell_type": "code",
   "execution_count": null,
   "id": "3d158576-4e53-4fc1-9be5-18b7ce29d592",
   "metadata": {},
   "outputs": [],
   "source": []
  },
  {
   "cell_type": "code",
   "execution_count": null,
   "id": "329f155b-4778-4abf-b2f3-14eabb639b9d",
   "metadata": {},
   "outputs": [],
   "source": []
  },
  {
   "cell_type": "code",
   "execution_count": null,
   "id": "6a5345f8-2152-4d36-bb3f-a2d2bf4e38fc",
   "metadata": {},
   "outputs": [],
   "source": []
  },
  {
   "cell_type": "code",
   "execution_count": null,
   "id": "123a4154-05f5-4bca-b729-ebcc60c98b91",
   "metadata": {},
   "outputs": [],
   "source": []
  },
  {
   "cell_type": "code",
   "execution_count": null,
   "id": "b84009b5-2d86-4539-a750-3d5e23630be0",
   "metadata": {},
   "outputs": [],
   "source": []
  },
  {
   "cell_type": "code",
   "execution_count": null,
   "id": "3b190faf-2f14-4206-b640-051d75de7d0a",
   "metadata": {},
   "outputs": [],
   "source": []
  },
  {
   "cell_type": "code",
   "execution_count": null,
   "id": "1d29826c-a7de-45e7-b697-04999ac81417",
   "metadata": {},
   "outputs": [],
   "source": []
  },
  {
   "cell_type": "code",
   "execution_count": null,
   "id": "8ca06334-22e6-4dbc-bade-33303673d8d3",
   "metadata": {},
   "outputs": [],
   "source": []
  },
  {
   "cell_type": "code",
   "execution_count": null,
   "id": "27a9c761-2624-4043-a28a-600668a91182",
   "metadata": {},
   "outputs": [],
   "source": []
  },
  {
   "cell_type": "code",
   "execution_count": null,
   "id": "8d3024b6-6f05-428d-9b76-0ead5f30548c",
   "metadata": {},
   "outputs": [],
   "source": []
  },
  {
   "cell_type": "code",
   "execution_count": null,
   "id": "a9eb2457-b61b-45b1-bc23-1e7fc2fda816",
   "metadata": {
    "collapsed": true,
    "jupyter": {
     "outputs_hidden": true
    },
    "tags": []
   },
   "outputs": [
    {
     "name": "stdout",
     "output_type": "stream",
     "text": [
      "iteration =  11\n",
      "\n",
      "\n",
      "iteration =  12\n",
      "\n",
      "\n",
      "iteration =  13\n",
      "\n",
      "\n",
      "iteration =  14\n",
      "\n",
      "\n",
      "iteration =  15\n",
      "\n",
      "\n",
      "iteration =  16\n",
      "\n",
      "\n",
      "iteration =  17\n",
      "\n",
      "\n",
      "iteration =  18\n"
     ]
    }
   ],
   "source": [
    "# GRF\n",
    "from econml.dml import CausalForestDML\n",
    "from sklearn.ensemble import RandomForestRegressor, RandomForestClassifier\n",
    "from sklearn.ensemble import GradientBoostingRegressor, GradientBoostingClassifier\n",
    "from sklearn.dummy import DummyRegressor, DummyClassifier\n",
    "from evaluation.UpliftMetric import *\n",
    "import pickle\n",
    "\n",
    "\n",
    "X_grf = X\n",
    "T_grf = T.flatten()\n",
    "Yr_grf = Yr.flatten()\n",
    "\n",
    "\n",
    "for i in range(10, 20):\n",
    "    \n",
    "    print(\"iteration = \", i + 1)\n",
    "    \n",
    "    depth = 24\n",
    "    min_samples_leaf = 300\n",
    "    n_estimators = 256\n",
    "\n",
    "    grf_random_state = 20220714 + i * 11\n",
    "    \n",
    "    est_it = CausalForestDML(model_y=RandomForestRegressor(n_estimators=160, max_samples = 0.7, random_state=grf_random_state, max_depth=12, min_samples_leaf=500, n_jobs=32),\n",
    "                          model_t=RandomForestClassifier(n_estimators=160, max_samples = 0.7, random_state=grf_random_state, max_depth=12, min_samples_leaf=500, n_jobs=32),\n",
    "                          discrete_treatment=True,\n",
    "                          cv=3,\n",
    "                          n_estimators=n_estimators,\n",
    "                          n_jobs=32,\n",
    "                          max_depth=depth,\n",
    "                          min_samples_leaf = min_samples_leaf,\n",
    "                          random_state=grf_random_state)\n",
    "\n",
    "    est_it.fit(Yr_grf, T_grf, X=X_grf, cache_values=True)\n",
    "    \n",
    "    model_file = \"../model_file/uplift/marketing/final_model/grf/CausalForestDML_{}.model\".format(i + 1)\n",
    "    \n",
    "    fw = open(model_file, \"wb\")\n",
    "\n",
    "    pickle.dump(est_it, fw)\n",
    "\n",
    "    fw.close()\n",
    "    \n",
    "    print(\"\\n\")\n",
    "    "
   ]
  },
  {
   "cell_type": "code",
   "execution_count": null,
   "id": "f398c309-c492-44c8-bd6c-50ae311120f9",
   "metadata": {},
   "outputs": [],
   "source": []
  }
 ],
 "metadata": {
  "kernelspec": {
   "display_name": "Python 3",
   "language": "python",
   "name": "python3"
  },
  "language_info": {
   "codemirror_mode": {
    "name": "ipython",
    "version": 3
   },
   "file_extension": ".py",
   "mimetype": "text/x-python",
   "name": "python",
   "nbconvert_exporter": "python",
   "pygments_lexer": "ipython3",
   "version": "3.6.13"
  }
 },
 "nbformat": 4,
 "nbformat_minor": 5
}
