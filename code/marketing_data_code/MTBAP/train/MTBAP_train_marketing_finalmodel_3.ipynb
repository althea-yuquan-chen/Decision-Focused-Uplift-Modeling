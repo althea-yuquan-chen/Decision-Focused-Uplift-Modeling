{
 "cells": [
  {
   "cell_type": "code",
   "execution_count": 1,
   "id": "61b37594-786c-4466-a572-6359e01ab699",
   "metadata": {},
   "outputs": [],
   "source": [
    "%load_ext autoreload\n",
    "%autoreload 2"
   ]
  },
  {
   "cell_type": "code",
   "execution_count": 2,
   "id": "206f6c06-2f56-41f8-ae53-b1ec21665404",
   "metadata": {},
   "outputs": [
    {
     "name": "stdout",
     "output_type": "stream",
     "text": [
      "2.4.1\n"
     ]
    }
   ],
   "source": [
    "import tensorflow as tf\n",
    "print(tf.__version__)"
   ]
  },
  {
   "cell_type": "code",
   "execution_count": null,
   "id": "130f5b4e-924f-47d0-9674-97288593c417",
   "metadata": {},
   "outputs": [],
   "source": []
  },
  {
   "cell_type": "code",
   "execution_count": null,
   "id": "8695ff9e-62b7-43ab-ae86-afe745f1ea81",
   "metadata": {},
   "outputs": [],
   "source": []
  },
  {
   "cell_type": "code",
   "execution_count": null,
   "id": "dff5b9e5-9fd0-47d9-bed9-a1d3f6d9e5c8",
   "metadata": {},
   "outputs": [],
   "source": []
  },
  {
   "cell_type": "code",
   "execution_count": 12,
   "id": "685e4113-6c8e-4915-b963-c24877bad55c",
   "metadata": {},
   "outputs": [
    {
     "name": "stdout",
     "output_type": "stream",
     "text": [
      "\n",
      "\n"
     ]
    }
   ],
   "source": [
    "# GRF\n",
    "from econml.dml import CausalForestDML\n",
    "from sklearn.ensemble import RandomForestRegressor, RandomForestClassifier\n",
    "from sklearn.ensemble import GradientBoostingRegressor, GradientBoostingClassifier\n",
    "from sklearn.dummy import DummyRegressor, DummyClassifier\n",
    "from evaluation.UpliftMetric import *\n",
    "import pickle\n",
    "\n",
    "X_grf = X\n",
    "T_grf = T.flatten()\n",
    "Yr_grf = Yr.flatten()\n",
    "\n",
    "    \n",
    "depth = 24\n",
    "min_samples_leaf = 300\n",
    "n_estimators = 256\n",
    "\n",
    "grf_random_state = 20220714\n",
    "\n",
    "est_it = CausalForestDML(model_y=RandomForestRegressor(n_estimators=160, max_samples = 0.7, random_state=grf_random_state, max_depth=12, min_samples_leaf=500, n_jobs=32),\n",
    "                      model_t=RandomForestRegressor(n_estimators=160, max_samples = 0.7, random_state=grf_random_state, max_depth=12, min_samples_leaf=500, n_jobs=32),\n",
    "                      discrete_treatment=False,\n",
    "                      cv=3,\n",
    "                      n_estimators=n_estimators,\n",
    "                      n_jobs=32,\n",
    "                      max_depth=depth,\n",
    "                      min_samples_leaf = min_samples_leaf,\n",
    "                      random_state=grf_random_state)\n",
    "\n",
    "est_it.fit(Yr_grf, T_grf, X=X_grf, cache_values=True)\n",
    "\n",
    "model_file = \"../model_file/MTBAP/marketing/temp/grf/CausalForestDML_reward_{}_{}_{}.model\".format(depth, min_samples_leaf, n_estimators)\n",
    "\n",
    "fw = open(model_file, \"wb\")\n",
    "\n",
    "pickle.dump(est_it, fw)\n",
    "\n",
    "fw.close()\n",
    "\n",
    "print(\"\\n\")\n",
    "    "
   ]
  },
  {
   "cell_type": "code",
   "execution_count": 13,
   "id": "53f5f1fc-eff4-4879-9bd8-d5d20e059eee",
   "metadata": {
    "tags": []
   },
   "outputs": [
    {
     "name": "stdout",
     "output_type": "stream",
     "text": [
      "\n",
      "\n"
     ]
    }
   ],
   "source": [
    "# GRF\n",
    "from econml.dml import CausalForestDML\n",
    "from sklearn.ensemble import RandomForestRegressor, RandomForestClassifier\n",
    "from sklearn.ensemble import GradientBoostingRegressor, GradientBoostingClassifier\n",
    "from sklearn.dummy import DummyRegressor, DummyClassifier\n",
    "from evaluation.UpliftMetric import *\n",
    "import pickle\n",
    "\n",
    "X_grf = X\n",
    "T_grf = T.flatten()\n",
    "Yc_grf = Yc.flatten()\n",
    "\n",
    "    \n",
    "depth = 24\n",
    "min_samples_leaf = 300\n",
    "n_estimators = 256\n",
    "\n",
    "grf_random_state = 20220714\n",
    "\n",
    "est_it = CausalForestDML(model_y=RandomForestRegressor(n_estimators=160, max_samples = 0.7, random_state=grf_random_state, max_depth=12, min_samples_leaf=500, n_jobs=32),\n",
    "                      model_t=RandomForestRegressor(n_estimators=160, max_samples = 0.7, random_state=grf_random_state, max_depth=12, min_samples_leaf=500, n_jobs=32),\n",
    "                      discrete_treatment=False,\n",
    "                      cv=3,\n",
    "                      n_estimators=n_estimators,\n",
    "                      n_jobs=32,\n",
    "                      max_depth=depth,\n",
    "                      min_samples_leaf = min_samples_leaf,\n",
    "                      random_state=grf_random_state)\n",
    "\n",
    "est_it.fit(Yc_grf, T_grf, X=X_grf, cache_values=True)\n",
    "\n",
    "model_file = \"../model_file/MTBAP/marketing/temp/grf/CausalForestDML_cost_{}_{}_{}.model\".format(depth, min_samples_leaf, n_estimators)\n",
    "\n",
    "fw = open(model_file, \"wb\")\n",
    "\n",
    "pickle.dump(est_it, fw)\n",
    "\n",
    "fw.close()\n",
    "\n",
    "print(\"\\n\")\n",
    "    "
   ]
  },
  {
   "cell_type": "code",
   "execution_count": null,
   "id": "d620c65e-0fa1-4e8b-ad0e-5e31cc3f8f18",
   "metadata": {},
   "outputs": [],
   "source": []
  },
  {
   "cell_type": "code",
   "execution_count": null,
   "id": "710ee9b2-133c-4ae7-ac47-817866721e69",
   "metadata": {},
   "outputs": [],
   "source": []
  },
  {
   "cell_type": "code",
   "execution_count": null,
   "id": "448468fb-80c7-4851-ba42-6495798142f0",
   "metadata": {},
   "outputs": [
    {
     "name": "stdout",
     "output_type": "stream",
     "text": [
      "iteration =  1\n",
      "\n",
      "\n",
      "iteration =  2\n",
      "\n",
      "\n",
      "iteration =  3\n",
      "\n",
      "\n",
      "iteration =  4\n",
      "\n",
      "\n",
      "iteration =  5\n",
      "\n",
      "\n",
      "iteration =  6\n",
      "\n",
      "\n",
      "iteration =  7\n",
      "\n",
      "\n",
      "iteration =  8\n",
      "\n",
      "\n",
      "iteration =  9\n",
      "\n",
      "\n",
      "iteration =  10\n"
     ]
    }
   ],
   "source": [
    "# GRF\n",
    "from econml.dml import CausalForestDML\n",
    "from sklearn.ensemble import RandomForestRegressor, RandomForestClassifier\n",
    "from sklearn.ensemble import GradientBoostingRegressor, GradientBoostingClassifier\n",
    "from sklearn.dummy import DummyRegressor, DummyClassifier\n",
    "from evaluation.UpliftMetric import *\n",
    "import pickle\n",
    "\n",
    "X_grf = X\n",
    "T_grf = T.flatten()\n",
    "Yr_grf = Yr.flatten()\n",
    "\n",
    "\n",
    "for i in range(10):\n",
    "    \n",
    "    print(\"iteration = \", i + 1)\n",
    "    \n",
    "    depth = 24\n",
    "    min_samples_leaf = 300\n",
    "    n_estimators = 256\n",
    "\n",
    "    grf_random_state = 20220714 + i * 11\n",
    "\n",
    "    est_it = CausalForestDML(model_y=RandomForestRegressor(n_estimators=160, max_samples = 0.7, random_state=grf_random_state, max_depth=12, min_samples_leaf=500, n_jobs=32),\n",
    "                          model_t=RandomForestRegressor(n_estimators=160, max_samples = 0.7, random_state=grf_random_state, max_depth=12, min_samples_leaf=500, n_jobs=32),\n",
    "                          discrete_treatment=False,\n",
    "                          cv=3,\n",
    "                          n_estimators=n_estimators,\n",
    "                          n_jobs=32,\n",
    "                          max_depth=depth,\n",
    "                          min_samples_leaf = min_samples_leaf,\n",
    "                          random_state=grf_random_state)\n",
    "\n",
    "    est_it.fit(Yr_grf, T_grf, X=X_grf, cache_values=True)\n",
    "\n",
    "    model_file = \"../model_file/MTBAP/marketing/final_model/GRF/CausalForestDML_reward_{}.model\".format(i + 1)\n",
    "\n",
    "    fw = open(model_file, \"wb\")\n",
    "\n",
    "    pickle.dump(est_it, fw)\n",
    "\n",
    "    fw.close()\n",
    "\n",
    "    print(\"\\n\")\n",
    "    "
   ]
  },
  {
   "cell_type": "code",
   "execution_count": null,
   "id": "930318ca-335a-4603-82ea-918109349de9",
   "metadata": {},
   "outputs": [],
   "source": []
  }
 ],
 "metadata": {
  "kernelspec": {
   "display_name": "Python 3",
   "language": "python",
   "name": "python3"
  },
  "language_info": {
   "codemirror_mode": {
    "name": "ipython",
    "version": 3
   },
   "file_extension": ".py",
   "mimetype": "text/x-python",
   "name": "python",
   "nbconvert_exporter": "python",
   "pygments_lexer": "ipython3",
   "version": "3.6.13"
  }
 },
 "nbformat": 4,
 "nbformat_minor": 5
}
